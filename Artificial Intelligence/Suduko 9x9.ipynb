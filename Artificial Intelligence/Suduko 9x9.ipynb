{
 "cells": [
  {
   "cell_type": "code",
   "execution_count": 1,
   "id": "ef7f494a",
   "metadata": {},
   "outputs": [
    {
     "data": {
      "text/plain": [
       "array([[0, 3, 0, 0, 8, 0, 0, 0, 1],\n",
       "       [0, 0, 7, 4, 0, 1, 0, 5, 0],\n",
       "       [9, 0, 0, 0, 5, 0, 2, 0, 0],\n",
       "       [0, 0, 2, 0, 0, 5, 0, 1, 0],\n",
       "       [3, 0, 0, 2, 1, 0, 5, 0, 0],\n",
       "       [5, 9, 0, 0, 6, 0, 0, 0, 2],\n",
       "       [0, 0, 6, 5, 0, 2, 0, 0, 0],\n",
       "       [0, 0, 9, 6, 0, 0, 0, 2, 7],\n",
       "       [0, 0, 0, 0, 0, 8, 0, 6, 5]])"
      ]
     },
     "execution_count": 1,
     "metadata": {},
     "output_type": "execute_result"
    }
   ],
   "source": [
    "import numpy as np\n",
    "m = np.array([[0,3,0,0,8,0,0,0,1],\n",
    "              [0,0,7,4,0,1,0,5,0],\n",
    "              [9,0,0,0,5,0,2,0,0],\n",
    "              [0,0,2,0,0,5,0,1,0],\n",
    "              [3,0,0,2,1,0,5,0,0],\n",
    "              [5,9,0,0,6,0,0,0,2],\n",
    "              [0,0,6,5,0,2,0,0,0],\n",
    "              [0,0,9,6,0,0,0,2,7],\n",
    "              [0,0,0,0,0,8,0,6,5]\n",
    "             ])\n",
    "m"
   ]
  },
  {
   "cell_type": "code",
   "execution_count": 2,
   "id": "58e8d60c",
   "metadata": {},
   "outputs": [],
   "source": [
    "# def checkForGrid(row,col,matrix):\n",
    "#     startRow=row-row%3\n",
    "#     startCol=col-col%3\n",
    "#     if(startRow<3):\n",
    "#         for i in range(3):\n",
    "            \n",
    "#     if(startRow>2 && startRow<6):\n",
    "#         for i in range(3,6):\n",
    "#     if(startRow >6):\n",
    "#         for i in range(6,9):\n",
    "    \n",
    "#     print(startRow,startCol)"
   ]
  },
  {
   "cell_type": "code",
   "execution_count": 3,
   "id": "2e50806f",
   "metadata": {},
   "outputs": [],
   "source": [
    "def checkPossibleFit(row, col, matrix):\n",
    "    newRow=(row//3)\n",
    "    newCol=(col//3)\n",
    "    temp =[]\n",
    "    if(newRow>1):\n",
    "        newRow=6\n",
    "    if(newRow>0):\n",
    "        newRow=3\n",
    "    if(newCol>1):\n",
    "        newCol=6\n",
    "    if(newCol>0):\n",
    "        newCol=3\n",
    "    for i in range(newRow,newRow+3):\n",
    "        for j in range(newCol,newCol+3):    \n",
    "            temp.append(matrix[i][j])\n",
    "    \n",
    "    for i in range(1,9):\n",
    "        if(i not in matrix[row]):\n",
    "                if( i not in matrix[:,col]):\n",
    "                    if(i not in temp):\n",
    "                        matrix[row][col]=i\n",
    "                        return False\n",
    "                    return False\n",
    "                return False\n",
    "            \n",
    "#     checkForGrid(row, col ,matrix)"
   ]
  },
  {
   "cell_type": "code",
   "execution_count": 4,
   "id": "c970b5e3",
   "metadata": {},
   "outputs": [],
   "source": [
    "def solve(matrix):\n",
    "    print(matrix)\n",
    "    for i in range(9):\n",
    "        for j in range(9):\n",
    "            val = matrix[i][j]\n",
    "            if(val==0):\n",
    "                print(i,j, '=>' ,matrix[i][j])\n",
    "                checkPossibleFit(i,j,matrix)\n",
    "                    \n",
    "#                 solve(matrix)\n",
    "    print(matrix)"
   ]
  },
  {
   "cell_type": "code",
   "execution_count": 5,
   "id": "be776146",
   "metadata": {},
   "outputs": [
    {
     "name": "stdout",
     "output_type": "stream",
     "text": [
      "[[0 3 0 0 8 0 0 0 1]\n",
      " [0 0 7 4 0 1 0 5 0]\n",
      " [9 0 0 0 5 0 2 0 0]\n",
      " [0 0 2 0 0 5 0 1 0]\n",
      " [3 0 0 2 1 0 5 0 0]\n",
      " [5 9 0 0 6 0 0 0 2]\n",
      " [0 0 6 5 0 2 0 0 0]\n",
      " [0 0 9 6 0 0 0 2 7]\n",
      " [0 0 0 0 0 8 0 6 5]]\n",
      "0 0 => 0\n",
      "0 2 => 0\n",
      "0 3 => 0\n",
      "0 5 => 0\n",
      "0 6 => 0\n",
      "0 7 => 0\n",
      "1 0 => 0\n",
      "1 1 => 0\n",
      "1 4 => 0\n",
      "1 6 => 0\n",
      "1 8 => 0\n",
      "2 1 => 0\n",
      "2 2 => 0\n",
      "2 3 => 0\n",
      "2 5 => 0\n",
      "2 7 => 0\n",
      "2 8 => 0\n",
      "3 0 => 0\n",
      "3 1 => 0\n",
      "3 3 => 0\n",
      "3 4 => 0\n",
      "3 6 => 0\n",
      "3 8 => 0\n",
      "4 1 => 0\n",
      "4 2 => 0\n",
      "4 5 => 0\n",
      "4 7 => 0\n",
      "4 8 => 0\n",
      "5 2 => 0\n",
      "5 3 => 0\n",
      "5 5 => 0\n",
      "5 6 => 0\n",
      "5 7 => 0\n",
      "6 0 => 0\n",
      "6 1 => 0\n",
      "6 4 => 0\n",
      "6 6 => 0\n",
      "6 7 => 0\n",
      "6 8 => 0\n",
      "7 0 => 0\n",
      "7 1 => 0\n",
      "7 4 => 0\n",
      "7 5 => 0\n",
      "7 6 => 0\n",
      "8 0 => 0\n",
      "8 1 => 0\n",
      "8 2 => 0\n",
      "8 3 => 0\n",
      "8 4 => 0\n",
      "8 6 => 0\n",
      "[[2 3 4 0 8 0 0 0 1]\n",
      " [0 0 7 4 2 1 3 5 6]\n",
      " [9 1 0 3 5 0 2 0 0]\n",
      " [0 0 2 0 3 5 4 1 0]\n",
      " [3 4 0 2 1 0 5 0 0]\n",
      " [5 9 1 0 6 0 0 0 2]\n",
      " [0 0 6 5 0 2 0 0 0]\n",
      " [0 0 9 6 0 0 0 2 7]\n",
      " [0 0 0 0 0 8 0 6 5]]\n"
     ]
    }
   ],
   "source": [
    "solve(m)"
   ]
  },
  {
   "cell_type": "code",
   "execution_count": null,
   "id": "63fb6f1b",
   "metadata": {},
   "outputs": [],
   "source": []
  },
  {
   "cell_type": "code",
   "execution_count": null,
   "id": "faf97f40",
   "metadata": {},
   "outputs": [],
   "source": []
  }
 ],
 "metadata": {
  "kernelspec": {
   "display_name": "Python 3 (ipykernel)",
   "language": "python",
   "name": "python3"
  },
  "language_info": {
   "codemirror_mode": {
    "name": "ipython",
    "version": 3
   },
   "file_extension": ".py",
   "mimetype": "text/x-python",
   "name": "python",
   "nbconvert_exporter": "python",
   "pygments_lexer": "ipython3",
   "version": "3.9.7"
  }
 },
 "nbformat": 4,
 "nbformat_minor": 5
}
