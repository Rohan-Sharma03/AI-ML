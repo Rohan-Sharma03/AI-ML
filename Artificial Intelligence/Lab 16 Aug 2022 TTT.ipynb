{
 "cells": [
  {
   "cell_type": "code",
   "execution_count": 1,
   "id": "d3b844d7",
   "metadata": {},
   "outputs": [],
   "source": [
    "import numpy as np "
   ]
  },
  {
   "cell_type": "code",
   "execution_count": 2,
   "id": "38adaf40",
   "metadata": {},
   "outputs": [
    {
     "data": {
      "text/plain": [
       "array([[-1, -1, -1],\n",
       "       [-1, -1, -1],\n",
       "       [-1, -1, -1]])"
      ]
     },
     "execution_count": 2,
     "metadata": {},
     "output_type": "execute_result"
    }
   ],
   "source": [
    "board = np.array([[-1,-1,-1],[-1,-1,-1],[-1,-1,-1]])\n",
    "board"
   ]
  },
  {
   "cell_type": "code",
   "execution_count": 6,
   "id": "536fbfbe",
   "metadata": {},
   "outputs": [],
   "source": [
    "def TTT(board):\n",
    "    board[1][1]=1\n",
    "    a=int(input('Enter box number for putting o in Board :-'))\n",
    "    if(a<9 and a>0):\n",
    "        print('ok')\n",
    "    else:\n",
    "        print('error')\n",
    "    \n",
    "    print(board)\n",
    "    "
   ]
  },
  {
   "cell_type": "code",
   "execution_count": 7,
   "id": "2eddf87d",
   "metadata": {},
   "outputs": [
    {
     "name": "stdout",
     "output_type": "stream",
     "text": [
      "Enter box number for putting o in Board :-3\n",
      "ok\n",
      "[[-1 -1 -1]\n",
      " [-1  1 -1]\n",
      " [-1 -1 -1]]\n"
     ]
    }
   ],
   "source": [
    "TTT(board)"
   ]
  },
  {
   "cell_type": "code",
   "execution_count": null,
   "id": "129f1cf2",
   "metadata": {},
   "outputs": [],
   "source": []
  }
 ],
 "metadata": {
  "kernelspec": {
   "display_name": "Python 3 (ipykernel)",
   "language": "python",
   "name": "python3"
  },
  "language_info": {
   "codemirror_mode": {
    "name": "ipython",
    "version": 3
   },
   "file_extension": ".py",
   "mimetype": "text/x-python",
   "name": "python",
   "nbconvert_exporter": "python",
   "pygments_lexer": "ipython3",
   "version": "3.9.7"
  }
 },
 "nbformat": 4,
 "nbformat_minor": 5
}
