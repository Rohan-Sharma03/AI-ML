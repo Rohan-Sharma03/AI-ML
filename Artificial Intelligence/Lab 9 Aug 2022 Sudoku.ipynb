{
 "cells": [
  {
   "cell_type": "markdown",
   "id": "5b5fa65e",
   "metadata": {},
   "source": [
    "Building a Static matrix"
   ]
  },
  {
   "cell_type": "code",
   "execution_count": 1,
   "id": "aecfa23b",
   "metadata": {},
   "outputs": [],
   "source": [
    "# import numpy as np\n",
    "# matrix = np.array([ [[0,5,2],[1,6,0],[0,4,9]], [[0,0,6],[9,0,0],[8,0,3]],   [[0,0,0],[0,0,4],[6,2,0]] ,\n",
    "                   \n",
    "#                    [[4,0,0],[0,8,3],[0,0,1]],  [[0,0,0],[2,0,1],[0,0,0]],   [[8,0,0],[5,9,0],[0,0,2]],\n",
    "                   \n",
    "#                    [[0,9,7],[2,0,0],[0,0,0]],  [[3,0,5],[0,0,9],[1,0,0]],   [[2,4,0],[0,5,6],[9,7,0]]\n",
    "#                                                ])\n",
    "# # matrix.reshape((9,3,-1))\n",
    "# print(matrix)"
   ]
  },
  {
   "cell_type": "code",
   "execution_count": 2,
   "id": "80b668b6",
   "metadata": {},
   "outputs": [
    {
     "name": "stdout",
     "output_type": "stream",
     "text": [
      "[[0 5 2 0 0 6 0 0 0]\n",
      " [1 6 0 9 0 0 0 0 4]\n",
      " [0 4 9 8 0 3 6 2 0]\n",
      " [4 0 0 0 0 0 8 0 0]\n",
      " [0 8 3 2 0 1 5 9 0]\n",
      " [0 0 1 0 0 0 0 0 2]\n",
      " [0 9 7 3 0 5 2 4 0]\n",
      " [2 0 0 0 0 9 0 5 6]\n",
      " [0 0 0 1 0 0 9 7 0]]\n"
     ]
    }
   ],
   "source": [
    "import numpy as np\n",
    "import random\n",
    "matrix = np.array([ [0,5,2,0,0,6,0,0,0],\n",
    "                    [1,6,0,9,0,0,0,0,4],\n",
    "                    [0,4,9,8,0,3,6,2,0],\n",
    "                    [4,0,0,0,0,0,8,0,0],\n",
    "                    [0,8,3,2,0,1,5,9,0],\n",
    "                    [0,0,1,0,0,0,0,0,2],\n",
    "                    [0,9,7,3,0,5,2,4,0],\n",
    "                    [2,0,0,0,0,9,0,5,6],\n",
    "                    [0,0,0,1,0,0,9,7,0],\n",
    "                   \n",
    "                   \n",
    "                   \n",
    "                                               ])\n",
    "# matrix.reshape((9,3,-1))\n",
    "print(matrix)"
   ]
  },
  {
   "cell_type": "markdown",
   "id": "ab71c1ae",
   "metadata": {},
   "source": [
    "Function to generate random number"
   ]
  },
  {
   "cell_type": "code",
   "execution_count": 3,
   "id": "88c34c30",
   "metadata": {},
   "outputs": [],
   "source": [
    "def RanNumGen():\n",
    "    return random.randint(1,10)"
   ]
  },
  {
   "cell_type": "markdown",
   "id": "094db504",
   "metadata": {},
   "source": [
    "Check if Grid Contains same number"
   ]
  },
  {
   "cell_type": "code",
   "execution_count": null,
   "id": "979f80c1",
   "metadata": {},
   "outputs": [],
   "source": [
    "def DuplicateCheck(M):\n",
    "    a = []\n",
    "    for i in range(3):\n",
    "        for j in range(3):\n",
    "            if Matrix[i][j] is not in matrix\n",
    "            "
   ]
  },
  {
   "cell_type": "markdown",
   "id": "91c45f5b",
   "metadata": {},
   "source": [
    "Function to solve the matrix"
   ]
  },
  {
   "cell_type": "code",
   "execution_count": 8,
   "id": "57f60875",
   "metadata": {},
   "outputs": [],
   "source": [
    "def GetSolution(Matrix):\n",
    "    for i in range(9):\n",
    "        for j in range(9):\n",
    "            if (i<3 and j<3 and Matrix[i][j]==0):\n",
    "                Matrix[i][j]=RanNumGen()\n",
    "            DuplicateCheck(Matrix)\n",
    "                \n",
    "            \n",
    "    print(Matrix)"
   ]
  },
  {
   "cell_type": "code",
   "execution_count": 9,
   "id": "70bf3396",
   "metadata": {},
   "outputs": [
    {
     "name": "stdout",
     "output_type": "stream",
     "text": [
      "[[6 5 2 0 0 6 0 0 0]\n",
      " [1 6 6 9 0 0 0 0 4]\n",
      " [4 4 9 8 0 3 6 2 0]\n",
      " [4 0 0 0 0 0 8 0 0]\n",
      " [0 8 3 2 0 1 5 9 0]\n",
      " [0 0 1 0 0 0 0 0 2]\n",
      " [0 9 7 3 0 5 2 4 0]\n",
      " [2 0 0 0 0 9 0 5 6]\n",
      " [0 0 0 1 0 0 9 7 0]]\n"
     ]
    }
   ],
   "source": [
    "GetSolution(matrix)"
   ]
  },
  {
   "cell_type": "code",
   "execution_count": null,
   "id": "729ed32c",
   "metadata": {},
   "outputs": [],
   "source": []
  },
  {
   "cell_type": "code",
   "execution_count": null,
   "id": "6a2e69bb",
   "metadata": {},
   "outputs": [],
   "source": []
  }
 ],
 "metadata": {
  "kernelspec": {
   "display_name": "Python 3 (ipykernel)",
   "language": "python",
   "name": "python3"
  },
  "language_info": {
   "codemirror_mode": {
    "name": "ipython",
    "version": 3
   },
   "file_extension": ".py",
   "mimetype": "text/x-python",
   "name": "python",
   "nbconvert_exporter": "python",
   "pygments_lexer": "ipython3",
   "version": "3.9.7"
  }
 },
 "nbformat": 4,
 "nbformat_minor": 5
}
