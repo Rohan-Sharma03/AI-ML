{
 "cells": [
  {
   "cell_type": "code",
   "execution_count": 1,
   "id": "0ff599e0",
   "metadata": {},
   "outputs": [],
   "source": [
    "import pandas as pd\n",
    "import numpy as np\n",
    "import matplotlib.pyplot as plt\n",
    "import seaborn as sns\n",
    "import scipy.stats as stats"
   ]
  },
  {
   "cell_type": "code",
   "execution_count": 2,
   "id": "c954dedb",
   "metadata": {},
   "outputs": [
    {
     "data": {
      "text/html": [
       "<div>\n",
       "<style scoped>\n",
       "    .dataframe tbody tr th:only-of-type {\n",
       "        vertical-align: middle;\n",
       "    }\n",
       "\n",
       "    .dataframe tbody tr th {\n",
       "        vertical-align: top;\n",
       "    }\n",
       "\n",
       "    .dataframe thead th {\n",
       "        text-align: right;\n",
       "    }\n",
       "</style>\n",
       "<table border=\"1\" class=\"dataframe\">\n",
       "  <thead>\n",
       "    <tr style=\"text-align: right;\">\n",
       "      <th></th>\n",
       "      <th>PassengerId</th>\n",
       "      <th>Pclass</th>\n",
       "      <th>Name</th>\n",
       "      <th>Sex</th>\n",
       "      <th>Age</th>\n",
       "      <th>SibSp</th>\n",
       "      <th>Parch</th>\n",
       "      <th>Ticket</th>\n",
       "      <th>Fare</th>\n",
       "      <th>Cabin</th>\n",
       "      <th>Embarked</th>\n",
       "    </tr>\n",
       "  </thead>\n",
       "  <tbody>\n",
       "    <tr>\n",
       "      <th>0</th>\n",
       "      <td>892</td>\n",
       "      <td>3</td>\n",
       "      <td>Kelly, Mr. James</td>\n",
       "      <td>male</td>\n",
       "      <td>34.5</td>\n",
       "      <td>0</td>\n",
       "      <td>0</td>\n",
       "      <td>330911</td>\n",
       "      <td>7.8292</td>\n",
       "      <td>NaN</td>\n",
       "      <td>Q</td>\n",
       "    </tr>\n",
       "    <tr>\n",
       "      <th>1</th>\n",
       "      <td>893</td>\n",
       "      <td>3</td>\n",
       "      <td>Wilkes, Mrs. James (Ellen Needs)</td>\n",
       "      <td>female</td>\n",
       "      <td>47.0</td>\n",
       "      <td>1</td>\n",
       "      <td>0</td>\n",
       "      <td>363272</td>\n",
       "      <td>7.0000</td>\n",
       "      <td>NaN</td>\n",
       "      <td>S</td>\n",
       "    </tr>\n",
       "    <tr>\n",
       "      <th>2</th>\n",
       "      <td>894</td>\n",
       "      <td>2</td>\n",
       "      <td>Myles, Mr. Thomas Francis</td>\n",
       "      <td>male</td>\n",
       "      <td>62.0</td>\n",
       "      <td>0</td>\n",
       "      <td>0</td>\n",
       "      <td>240276</td>\n",
       "      <td>9.6875</td>\n",
       "      <td>NaN</td>\n",
       "      <td>Q</td>\n",
       "    </tr>\n",
       "    <tr>\n",
       "      <th>3</th>\n",
       "      <td>895</td>\n",
       "      <td>3</td>\n",
       "      <td>Wirz, Mr. Albert</td>\n",
       "      <td>male</td>\n",
       "      <td>27.0</td>\n",
       "      <td>0</td>\n",
       "      <td>0</td>\n",
       "      <td>315154</td>\n",
       "      <td>8.6625</td>\n",
       "      <td>NaN</td>\n",
       "      <td>S</td>\n",
       "    </tr>\n",
       "    <tr>\n",
       "      <th>4</th>\n",
       "      <td>896</td>\n",
       "      <td>3</td>\n",
       "      <td>Hirvonen, Mrs. Alexander (Helga E Lindqvist)</td>\n",
       "      <td>female</td>\n",
       "      <td>22.0</td>\n",
       "      <td>1</td>\n",
       "      <td>1</td>\n",
       "      <td>3101298</td>\n",
       "      <td>12.2875</td>\n",
       "      <td>NaN</td>\n",
       "      <td>S</td>\n",
       "    </tr>\n",
       "    <tr>\n",
       "      <th>...</th>\n",
       "      <td>...</td>\n",
       "      <td>...</td>\n",
       "      <td>...</td>\n",
       "      <td>...</td>\n",
       "      <td>...</td>\n",
       "      <td>...</td>\n",
       "      <td>...</td>\n",
       "      <td>...</td>\n",
       "      <td>...</td>\n",
       "      <td>...</td>\n",
       "      <td>...</td>\n",
       "    </tr>\n",
       "    <tr>\n",
       "      <th>413</th>\n",
       "      <td>1305</td>\n",
       "      <td>3</td>\n",
       "      <td>Spector, Mr. Woolf</td>\n",
       "      <td>male</td>\n",
       "      <td>NaN</td>\n",
       "      <td>0</td>\n",
       "      <td>0</td>\n",
       "      <td>A.5. 3236</td>\n",
       "      <td>8.0500</td>\n",
       "      <td>NaN</td>\n",
       "      <td>S</td>\n",
       "    </tr>\n",
       "    <tr>\n",
       "      <th>414</th>\n",
       "      <td>1306</td>\n",
       "      <td>1</td>\n",
       "      <td>Oliva y Ocana, Dona. Fermina</td>\n",
       "      <td>female</td>\n",
       "      <td>39.0</td>\n",
       "      <td>0</td>\n",
       "      <td>0</td>\n",
       "      <td>PC 17758</td>\n",
       "      <td>108.9000</td>\n",
       "      <td>C105</td>\n",
       "      <td>C</td>\n",
       "    </tr>\n",
       "    <tr>\n",
       "      <th>415</th>\n",
       "      <td>1307</td>\n",
       "      <td>3</td>\n",
       "      <td>Saether, Mr. Simon Sivertsen</td>\n",
       "      <td>male</td>\n",
       "      <td>38.5</td>\n",
       "      <td>0</td>\n",
       "      <td>0</td>\n",
       "      <td>SOTON/O.Q. 3101262</td>\n",
       "      <td>7.2500</td>\n",
       "      <td>NaN</td>\n",
       "      <td>S</td>\n",
       "    </tr>\n",
       "    <tr>\n",
       "      <th>416</th>\n",
       "      <td>1308</td>\n",
       "      <td>3</td>\n",
       "      <td>Ware, Mr. Frederick</td>\n",
       "      <td>male</td>\n",
       "      <td>NaN</td>\n",
       "      <td>0</td>\n",
       "      <td>0</td>\n",
       "      <td>359309</td>\n",
       "      <td>8.0500</td>\n",
       "      <td>NaN</td>\n",
       "      <td>S</td>\n",
       "    </tr>\n",
       "    <tr>\n",
       "      <th>417</th>\n",
       "      <td>1309</td>\n",
       "      <td>3</td>\n",
       "      <td>Peter, Master. Michael J</td>\n",
       "      <td>male</td>\n",
       "      <td>NaN</td>\n",
       "      <td>1</td>\n",
       "      <td>1</td>\n",
       "      <td>2668</td>\n",
       "      <td>22.3583</td>\n",
       "      <td>NaN</td>\n",
       "      <td>C</td>\n",
       "    </tr>\n",
       "  </tbody>\n",
       "</table>\n",
       "<p>418 rows × 11 columns</p>\n",
       "</div>"
      ],
      "text/plain": [
       "     PassengerId  Pclass                                          Name  \\\n",
       "0            892       3                              Kelly, Mr. James   \n",
       "1            893       3              Wilkes, Mrs. James (Ellen Needs)   \n",
       "2            894       2                     Myles, Mr. Thomas Francis   \n",
       "3            895       3                              Wirz, Mr. Albert   \n",
       "4            896       3  Hirvonen, Mrs. Alexander (Helga E Lindqvist)   \n",
       "..           ...     ...                                           ...   \n",
       "413         1305       3                            Spector, Mr. Woolf   \n",
       "414         1306       1                  Oliva y Ocana, Dona. Fermina   \n",
       "415         1307       3                  Saether, Mr. Simon Sivertsen   \n",
       "416         1308       3                           Ware, Mr. Frederick   \n",
       "417         1309       3                      Peter, Master. Michael J   \n",
       "\n",
       "        Sex   Age  SibSp  Parch              Ticket      Fare Cabin Embarked  \n",
       "0      male  34.5      0      0              330911    7.8292   NaN        Q  \n",
       "1    female  47.0      1      0              363272    7.0000   NaN        S  \n",
       "2      male  62.0      0      0              240276    9.6875   NaN        Q  \n",
       "3      male  27.0      0      0              315154    8.6625   NaN        S  \n",
       "4    female  22.0      1      1             3101298   12.2875   NaN        S  \n",
       "..      ...   ...    ...    ...                 ...       ...   ...      ...  \n",
       "413    male   NaN      0      0           A.5. 3236    8.0500   NaN        S  \n",
       "414  female  39.0      0      0            PC 17758  108.9000  C105        C  \n",
       "415    male  38.5      0      0  SOTON/O.Q. 3101262    7.2500   NaN        S  \n",
       "416    male   NaN      0      0              359309    8.0500   NaN        S  \n",
       "417    male   NaN      1      1                2668   22.3583   NaN        C  \n",
       "\n",
       "[418 rows x 11 columns]"
      ]
     },
     "execution_count": 2,
     "metadata": {},
     "output_type": "execute_result"
    }
   ],
   "source": [
    "test = pd.read_csv(\"data/test.csv\")\n",
    "test"
   ]
  },
  {
   "cell_type": "code",
   "execution_count": 3,
   "id": "d5ff71e3",
   "metadata": {},
   "outputs": [
    {
     "data": {
      "text/html": [
       "<div>\n",
       "<style scoped>\n",
       "    .dataframe tbody tr th:only-of-type {\n",
       "        vertical-align: middle;\n",
       "    }\n",
       "\n",
       "    .dataframe tbody tr th {\n",
       "        vertical-align: top;\n",
       "    }\n",
       "\n",
       "    .dataframe thead th {\n",
       "        text-align: right;\n",
       "    }\n",
       "</style>\n",
       "<table border=\"1\" class=\"dataframe\">\n",
       "  <thead>\n",
       "    <tr style=\"text-align: right;\">\n",
       "      <th></th>\n",
       "      <th>Survived</th>\n",
       "      <th>Pclass</th>\n",
       "      <th>Name</th>\n",
       "      <th>Sex</th>\n",
       "      <th>Age</th>\n",
       "      <th>SibSp</th>\n",
       "      <th>Parch</th>\n",
       "      <th>Fare</th>\n",
       "    </tr>\n",
       "  </thead>\n",
       "  <tbody>\n",
       "    <tr>\n",
       "      <th>0</th>\n",
       "      <td>0</td>\n",
       "      <td>3</td>\n",
       "      <td>Braund, Mr. Owen Harris</td>\n",
       "      <td>male</td>\n",
       "      <td>22.0</td>\n",
       "      <td>1</td>\n",
       "      <td>0</td>\n",
       "      <td>7.2500</td>\n",
       "    </tr>\n",
       "    <tr>\n",
       "      <th>1</th>\n",
       "      <td>1</td>\n",
       "      <td>1</td>\n",
       "      <td>Cumings, Mrs. John Bradley (Florence Briggs Th...</td>\n",
       "      <td>female</td>\n",
       "      <td>38.0</td>\n",
       "      <td>1</td>\n",
       "      <td>0</td>\n",
       "      <td>71.2833</td>\n",
       "    </tr>\n",
       "    <tr>\n",
       "      <th>2</th>\n",
       "      <td>1</td>\n",
       "      <td>3</td>\n",
       "      <td>Heikkinen, Miss. Laina</td>\n",
       "      <td>female</td>\n",
       "      <td>26.0</td>\n",
       "      <td>0</td>\n",
       "      <td>0</td>\n",
       "      <td>7.9250</td>\n",
       "    </tr>\n",
       "    <tr>\n",
       "      <th>3</th>\n",
       "      <td>1</td>\n",
       "      <td>1</td>\n",
       "      <td>Futrelle, Mrs. Jacques Heath (Lily May Peel)</td>\n",
       "      <td>female</td>\n",
       "      <td>35.0</td>\n",
       "      <td>1</td>\n",
       "      <td>0</td>\n",
       "      <td>53.1000</td>\n",
       "    </tr>\n",
       "    <tr>\n",
       "      <th>4</th>\n",
       "      <td>0</td>\n",
       "      <td>3</td>\n",
       "      <td>Allen, Mr. William Henry</td>\n",
       "      <td>male</td>\n",
       "      <td>35.0</td>\n",
       "      <td>0</td>\n",
       "      <td>0</td>\n",
       "      <td>8.0500</td>\n",
       "    </tr>\n",
       "    <tr>\n",
       "      <th>...</th>\n",
       "      <td>...</td>\n",
       "      <td>...</td>\n",
       "      <td>...</td>\n",
       "      <td>...</td>\n",
       "      <td>...</td>\n",
       "      <td>...</td>\n",
       "      <td>...</td>\n",
       "      <td>...</td>\n",
       "    </tr>\n",
       "    <tr>\n",
       "      <th>886</th>\n",
       "      <td>0</td>\n",
       "      <td>2</td>\n",
       "      <td>Montvila, Rev. Juozas</td>\n",
       "      <td>male</td>\n",
       "      <td>27.0</td>\n",
       "      <td>0</td>\n",
       "      <td>0</td>\n",
       "      <td>13.0000</td>\n",
       "    </tr>\n",
       "    <tr>\n",
       "      <th>887</th>\n",
       "      <td>1</td>\n",
       "      <td>1</td>\n",
       "      <td>Graham, Miss. Margaret Edith</td>\n",
       "      <td>female</td>\n",
       "      <td>19.0</td>\n",
       "      <td>0</td>\n",
       "      <td>0</td>\n",
       "      <td>30.0000</td>\n",
       "    </tr>\n",
       "    <tr>\n",
       "      <th>888</th>\n",
       "      <td>0</td>\n",
       "      <td>3</td>\n",
       "      <td>Johnston, Miss. Catherine Helen \"Carrie\"</td>\n",
       "      <td>female</td>\n",
       "      <td>NaN</td>\n",
       "      <td>1</td>\n",
       "      <td>2</td>\n",
       "      <td>23.4500</td>\n",
       "    </tr>\n",
       "    <tr>\n",
       "      <th>889</th>\n",
       "      <td>1</td>\n",
       "      <td>1</td>\n",
       "      <td>Behr, Mr. Karl Howell</td>\n",
       "      <td>male</td>\n",
       "      <td>26.0</td>\n",
       "      <td>0</td>\n",
       "      <td>0</td>\n",
       "      <td>30.0000</td>\n",
       "    </tr>\n",
       "    <tr>\n",
       "      <th>890</th>\n",
       "      <td>0</td>\n",
       "      <td>3</td>\n",
       "      <td>Dooley, Mr. Patrick</td>\n",
       "      <td>male</td>\n",
       "      <td>32.0</td>\n",
       "      <td>0</td>\n",
       "      <td>0</td>\n",
       "      <td>7.7500</td>\n",
       "    </tr>\n",
       "  </tbody>\n",
       "</table>\n",
       "<p>891 rows × 8 columns</p>\n",
       "</div>"
      ],
      "text/plain": [
       "     Survived  Pclass                                               Name  \\\n",
       "0           0       3                            Braund, Mr. Owen Harris   \n",
       "1           1       1  Cumings, Mrs. John Bradley (Florence Briggs Th...   \n",
       "2           1       3                             Heikkinen, Miss. Laina   \n",
       "3           1       1       Futrelle, Mrs. Jacques Heath (Lily May Peel)   \n",
       "4           0       3                           Allen, Mr. William Henry   \n",
       "..        ...     ...                                                ...   \n",
       "886         0       2                              Montvila, Rev. Juozas   \n",
       "887         1       1                       Graham, Miss. Margaret Edith   \n",
       "888         0       3           Johnston, Miss. Catherine Helen \"Carrie\"   \n",
       "889         1       1                              Behr, Mr. Karl Howell   \n",
       "890         0       3                                Dooley, Mr. Patrick   \n",
       "\n",
       "        Sex   Age  SibSp  Parch     Fare  \n",
       "0      male  22.0      1      0   7.2500  \n",
       "1    female  38.0      1      0  71.2833  \n",
       "2    female  26.0      0      0   7.9250  \n",
       "3    female  35.0      1      0  53.1000  \n",
       "4      male  35.0      0      0   8.0500  \n",
       "..      ...   ...    ...    ...      ...  \n",
       "886    male  27.0      0      0  13.0000  \n",
       "887  female  19.0      0      0  30.0000  \n",
       "888  female   NaN      1      2  23.4500  \n",
       "889    male  26.0      0      0  30.0000  \n",
       "890    male  32.0      0      0   7.7500  \n",
       "\n",
       "[891 rows x 8 columns]"
      ]
     },
     "execution_count": 3,
     "metadata": {},
     "output_type": "execute_result"
    }
   ],
   "source": [
    "train = pd.read_csv(\"data/train.csv\")\n",
    "del train['Cabin']\n",
    "del train['Embarked']\n",
    "del train['Ticket']\n",
    "del train['PassengerId']\n",
    "train"
   ]
  },
  {
   "cell_type": "code",
   "execution_count": 4,
   "id": "c15b1fa8",
   "metadata": {},
   "outputs": [
    {
     "name": "stdout",
     "output_type": "stream",
     "text": [
      "The number of rows and columns in test data is as follow:  418 11\n",
      "Pclass : int64 Null values : 0\n",
      "Name : object Null values : 0\n",
      "Sex : object Null values : 0\n",
      "Age : float64 Null values : 86\n",
      "SibSp : int64 Null values : 0\n",
      "Parch : int64 Null values : 0\n",
      "Ticket : object Null values : 0\n",
      "Fare : float64 Null values : 1\n",
      "Cabin : object Null values : 327\n",
      "Embardked : object Null values : 0\n"
     ]
    }
   ],
   "source": [
    "rowsTest  = len(test.axes[0])\n",
    "colTest = len(test.axes[1])\n",
    "print(\"The number of rows and columns in test data is as follow: \",rowsTest,colTest)\n",
    "print(\"Pclass :\",test.dtypes['Pclass'],\"Null values :\",test['Pclass'].isnull().sum())\n",
    "print(\"Name :\",test.dtypes['Name'],\"Null values :\",test['Name'].isnull().sum())\n",
    "print(\"Sex :\",test.dtypes['Sex'],\"Null values :\",test['Sex'].isnull().sum())\n",
    "print(\"Age :\",test.dtypes['Age'],\"Null values :\",test['Age'].isnull().sum())\n",
    "print(\"SibSp :\",test.dtypes['SibSp'],\"Null values :\",test['SibSp'].isnull().sum())\n",
    "print(\"Parch :\",test.dtypes['Parch'],\"Null values :\",test['Parch'].isnull().sum())\n",
    "print(\"Ticket :\",test.dtypes['Ticket'],\"Null values :\",test['Ticket'].isnull().sum())\n",
    "print(\"Fare :\",test.dtypes['Fare'],\"Null values :\",test['Fare'].isnull().sum())\n",
    "print(\"Cabin :\",test.dtypes['Cabin'],\"Null values :\",test['Cabin'].isnull().sum())\n",
    "print(\"Embardked :\",test.dtypes['Embarked'],\"Null values :\",test['Embarked'].isnull().sum())"
   ]
  },
  {
   "cell_type": "code",
   "execution_count": 5,
   "id": "97486482",
   "metadata": {},
   "outputs": [
    {
     "data": {
      "text/plain": [
       "PassengerId      0\n",
       "Pclass           0\n",
       "Name             0\n",
       "Sex              0\n",
       "Age             86\n",
       "SibSp            0\n",
       "Parch            0\n",
       "Ticket           0\n",
       "Fare             1\n",
       "Cabin          327\n",
       "Embarked         0\n",
       "dtype: int64"
      ]
     },
     "execution_count": 5,
     "metadata": {},
     "output_type": "execute_result"
    }
   ],
   "source": [
    "test.isna().sum()"
   ]
  },
  {
   "cell_type": "code",
   "execution_count": 6,
   "id": "db16b060",
   "metadata": {},
   "outputs": [
    {
     "name": "stdout",
     "output_type": "stream",
     "text": [
      "Survived : int64 Null values : 0\n",
      "Pclass : int64 Null values : 0\n",
      "Name : object Null values : 0\n",
      "Sex : object Null values : 0\n",
      "Age : float64 Null values : 177\n",
      "SibSp : int64 Null values : 0\n",
      "Parch : int64 Null values : 0\n",
      "Fare : float64 Null values : 0\n"
     ]
    }
   ],
   "source": [
    "rowsTest  = len(train.axes[0])\n",
    "colTest = len(train.axes[1])\n",
    "print(\"Survived :\",train.dtypes['Survived'],\"Null values :\",train['Survived'].isnull().sum())\n",
    "print(\"Pclass :\",train.dtypes['Pclass'],\"Null values :\",train['Pclass'].isnull().sum())\n",
    "print(\"Name :\",train.dtypes['Name'],\"Null values :\",train['Name'].isnull().sum())\n",
    "print(\"Sex :\",train.dtypes['Sex'],\"Null values :\",train['Sex'].isnull().sum())\n",
    "print(\"Age :\",train.dtypes['Age'],\"Null values :\",train['Age'].isnull().sum())\n",
    "print(\"SibSp :\",train.dtypes['SibSp'],\"Null values :\",train['SibSp'].isnull().sum())\n",
    "print(\"Parch :\",train.dtypes['Parch'],\"Null values :\",train['Parch'].isnull().sum())\n",
    "print(\"Fare :\",train.dtypes['Fare'],\"Null values :\",train['Fare'].isnull().sum())\n"
   ]
  },
  {
   "cell_type": "code",
   "execution_count": 7,
   "id": "72d96d27",
   "metadata": {},
   "outputs": [
    {
     "data": {
      "text/plain": [
       "Survived      0\n",
       "Pclass        0\n",
       "Name          0\n",
       "Sex           0\n",
       "Age         177\n",
       "SibSp         0\n",
       "Parch         0\n",
       "Fare          0\n",
       "dtype: int64"
      ]
     },
     "execution_count": 7,
     "metadata": {},
     "output_type": "execute_result"
    }
   ],
   "source": [
    "train.isna().sum()"
   ]
  },
  {
   "cell_type": "markdown",
   "id": "567bc0c1",
   "metadata": {},
   "source": [
    "Show how many passengers were male and female and plot using matplotlib. On the same plot depict \n",
    "the people who survived and who died. Make accurate axis and legend. Save the plot in a png file. "
   ]
  },
  {
   "cell_type": "code",
   "execution_count": 8,
   "id": "4906f59e",
   "metadata": {},
   "outputs": [
    {
     "data": {
      "image/png": "[encoded data removed]",
      "text/plain": [
       "<Figure size 1080x936 with 1 Axes>"
      ]
     },
     "metadata": {
      "needs_background": "light"
     },
     "output_type": "display_data"
    }
   ],
   "source": [
    "male=len(train.query(\"Sex == 'male'\"))\n",
    "female=len(train.query(\"Sex != 'male'\"))\n",
    "Survived=len(train.query(\"Survived == 1\"))\n",
    "notSurvived=len(train.query(\"Survived == 0\"))\n",
    "df = pd.DataFrame({'Male': male, 'Female': female,'Survived':Survived,'NotSurvived':notSurvived},index=['Types ofPassenger'])\n",
    "ax = df.plot.bar(figsize=(15,13),rot=0)\n",
    "for container in ax.containers:\n",
    "    ax.bar_label(container)\n",
    "plt.savefig(\"Q1.png\")"
   ]
  },
  {
   "cell_type": "markdown",
   "id": "a5f2fda2",
   "metadata": {},
   "source": [
    "Show the histogram of the count of passengers who died (according to their age). Age ranges should \n",
    "be <10, 10 to <20, 20 to <30 and so on\n",
    "\n",
    "How many minor children died and how many of them survived (<16 years). Create a separate plot for \n",
    "the passengers who survived."
   ]
  },
  {
   "cell_type": "code",
   "execution_count": 9,
   "id": "0aee5fca",
   "metadata": {},
   "outputs": [
    {
     "data": {
      "image/png": "[encoded data removed]",
      "text/plain": [
       "<Figure size 432x288 with 1 Axes>"
      ]
     },
     "metadata": {
      "needs_background": "light"
     },
     "output_type": "display_data"
    },
    {
     "name": "stdout",
     "output_type": "stream",
     "text": [
      "100 55 45\n"
     ]
    },
    {
     "data": {
      "image/png": "[encoded data removed]",
      "text/plain": [
       "<Figure size 576x432 with 1 Axes>"
      ]
     },
     "metadata": {
      "needs_background": "light"
     },
     "output_type": "display_data"
    }
   ],
   "source": [
    "age=train['Age']\n",
    "plt.hist(age,bins=[0,10,20,30,40,50,60,70,80],edgecolor=\"red\",label='Age Group')\n",
    "plt.legend()\n",
    "plt.xlabel=\"Age Group\"\n",
    "plt.ylabel=\"Number of Passengar\"\n",
    "plt.savefig(\"Q2a.png\")\n",
    "plt.show()\n",
    "\n",
    "childAge=pd.DataFrame(train.query(\"Age <=16\"))\n",
    "child=len(childAge)\n",
    "Survived=len(childAge.query(\"Survived == 1\"))\n",
    "notSurvived=len(childAge.query(\"Survived == 0 \"))\n",
    "print(child,Survived,notSurvived)\n",
    "df = pd.DataFrame({'Childern': child, 'Survived': Survived,'NotSurvived':notSurvived},index=['Passenger'])\n",
    "ax = df.plot.bar(figsize=(8,6),rot=1)\n",
    "\n",
    "for container in ax.containers:\n",
    "    ax.bar_label(container)\n",
    "plt.savefig(\"Q2b.png\")"
   ]
  },
  {
   "cell_type": "markdown",
   "id": "5a659ef7",
   "metadata": {},
   "source": [
    "Show the distribution on the count of passengers who died (according to the fare they paid). Choose \n",
    "fare ranges such that the mean lies in the middle range. \n",
    "\n",
    "Give the percentage of passengers who survived as had paid more than $100. Justify if there was any \n",
    "bias in the rescue operation towards the rich (Yes/No/not enough evidence)"
   ]
  },
  {
   "cell_type": "code",
   "execution_count": 10,
   "id": "1d6e97e5",
   "metadata": {},
   "outputs": [
    {
     "data": {
      "image/png": "[encoded data removed]",
      "text/plain": [
       "<Figure size 432x288 with 1 Axes>"
      ]
     },
     "metadata": {
      "needs_background": "light"
     },
     "output_type": "display_data"
    }
   ],
   "source": [
    "sns.kdeplot(data=train['Fare'])\n",
    "plt.xlim([0,30])\n",
    "# plt.xlabel(\"Fare\", size=12)    \n",
    "# plt.ylabel(\"Frequency\", size=12)                \n",
    "plt.grid(True, alpha=0.3, linestyle=\"--\")     \n",
    "plt.show()\n",
    "plt.show()"
   ]
  },
  {
   "cell_type": "code",
   "execution_count": 11,
   "id": "0095231e",
   "metadata": {},
   "outputs": [
    {
     "data": {
      "image/png": "[encoded data removed]",
      "text/plain": [
       "<Figure size 432x288 with 1 Axes>"
      ]
     },
     "metadata": {
      "needs_background": "light"
     },
     "output_type": "display_data"
    }
   ],
   "source": [
    "df_mean = np.mean(train[\"Fare\"])\n",
    "df_std = np.std(train[\"Fare\"])\n",
    "# Calculating probability density function (PDF)\n",
    "pdf = stats.norm.pdf(train[\"Fare\"].sort_values(), df_mean, df_std)\n",
    "# print(pdf)\n",
    "plt.plot(train['Fare'].sort_values(),pdf)\n",
    "plt.xlim([0,500])\n",
    "# plt.xlabel(\"Fare\", size=12)    \n",
    "# plt.ylabel(\"Frequency\", size=12)                \n",
    "plt.grid(True, alpha=0.3, linestyle=\"--\")     \n",
    "plt.show()\n",
    "plt.show()"
   ]
  },
  {
   "cell_type": "code",
   "execution_count": 12,
   "id": "a9199317",
   "metadata": {},
   "outputs": [
    {
     "data": {
      "image/png": "[encoded data removed]",
      "text/plain": [
       "<Figure size 432x288 with 1 Axes>"
      ]
     },
     "metadata": {
      "needs_background": "light"
     },
     "output_type": "display_data"
    }
   ],
   "source": [
    "train['Fare'].mean()\n",
    "fare=train['Fare']\n",
    "plt.hist(fare,bins=[0,20,100,300,600],edgecolor=\"red\",label='Age Group')\n",
    "plt.legend()\n",
    "plt.xlabel=\"Age Group\"\n",
    "plt.ylabel=\"Number of Passengar\"\n",
    "plt.savefig(\"Q2a.png\")\n",
    "plt.show()"
   ]
  },
  {
   "cell_type": "code",
   "execution_count": 13,
   "id": "db791103",
   "metadata": {},
   "outputs": [
    {
     "data": {
      "text/plain": [
       "<AxesSubplot:ylabel='Frequency'>"
      ]
     },
     "execution_count": 13,
     "metadata": {},
     "output_type": "execute_result"
    },
    {
     "data": {
      "image/png": "[encoded data removed]",
      "text/plain": [
       "<Figure size 432x288 with 1 Axes>"
      ]
     },
     "metadata": {
      "needs_background": "light"
     },
     "output_type": "display_data"
    }
   ],
   "source": [
    "pd = train.query(\"Survived == 0\")\n",
    "pd=pd[['Fare','Survived']].copy()\n",
    "pd\n",
    "pd['Fare'].plot.hist(grid=True, bins=60, rwidth=0.7)"
   ]
  },
  {
   "cell_type": "code",
   "execution_count": 14,
   "id": "8f8e2c45",
   "metadata": {},
   "outputs": [
    {
     "name": "stdout",
     "output_type": "stream",
     "text": [
      "73.58490566037736  % of the passenger were survived, who paid more than $100\n",
      "As we can see from the percentage of rich passenger saved, it was biased! \n"
     ]
    }
   ],
   "source": [
    "paidMore=train.query('Fare>=100')\n",
    "paidMoreAndSurvived=train.query('Survived ==1 and Fare>=100')\n",
    "percentage= (len(paidMoreAndSurvived)/len(paidMore))*100\n",
    "print(percentage,\" % of the passenger were survived, who paid more than $100\")\n",
    "print(\"As we can see from the percentage of rich passenger saved, it was biased! \")"
   ]
  },
  {
   "cell_type": "markdown",
   "id": "c69d595d",
   "metadata": {},
   "source": [
    "Plot graphs showing correlation between different pairs of attributes. Infer if there is any significant \n",
    "correlation between survivors and any specific feature"
   ]
  },
  {
   "cell_type": "code",
   "execution_count": 15,
   "id": "8c10cfb5",
   "metadata": {},
   "outputs": [
    {
     "name": "stdout",
     "output_type": "stream",
     "text": [
      "Percentage of people saved in First class : 62.96296296296296 %\n",
      "Percentage of people saved in Second class : 47.28260869565217 %\n",
      "Percentage of people saved in Third class : 24.236252545824847 %\n",
      "\n",
      "We can observe from the percentage of data and interpret that the first class people were given more priority than second class and second class passengers were given more priority than third class, to survive.\n"
     ]
    }
   ],
   "source": [
    "relation1S = train.query('Survived == 1 and Pclass==1')\n",
    "relation1NS = train.query('Survived != 1 and Pclass==1')\n",
    "Pclass1 = train.query('Pclass==1')\n",
    "percent1 = (len(relation1S)/len(Pclass1))*100\n",
    "print(\"Percentage of people saved in First class :\",percent1, \"%\")\n",
    "\n",
    "relation2S = train.query('Survived == 1 and Pclass==2')\n",
    "relation2NS = train.query('Survived != 1 and Pclass==2')\n",
    "Pclass2 = train.query('Pclass==2')\n",
    "percent2 = (len(relation2S)/len(Pclass2))*100\n",
    "print(\"Percentage of people saved in Second class :\",percent2,\"%\")\n",
    "\n",
    "relation3S = train.query('Survived == 1 and Pclass==3')\n",
    "relation3NS = train.query('Survived != 1 and Pclass==3')\n",
    "Pclass3 = train.query('Pclass==3')\n",
    "percent3 = (len(relation3S)/len(Pclass3))*100\n",
    "print(\"Percentage of people saved in Third class :\",percent3,\"%\")\n",
    "\n",
    "\n",
    "print(\"\\nWe can observe from the percentage of data and interpret that the first class people were given more priority than second class and second class passengers were given more priority than third class, to survive.\")"
   ]
  },
  {
   "cell_type": "code",
   "execution_count": 16,
   "id": "d3c6b837",
   "metadata": {},
   "outputs": [
    {
     "name": "stdout",
     "output_type": "stream",
     "text": [
      "From the graph, we can infer that there is a strong relation between Survived people and the fare they paid\n"
     ]
    },
    {
     "data": {
      "image/png": "[encoded data removed]",
      "text/plain": [
       "<Figure size 432x288 with 2 Axes>"
      ]
     },
     "metadata": {
      "needs_background": "light"
     },
     "output_type": "display_data"
    }
   ],
   "source": [
    "import seaborn as sn\n",
    "corr=train.corr()\n",
    "sn.heatmap(corr,annot=True)\n",
    "print(\"From the graph, we can infer that there is a strong relation between Survived people and the fare they paid\")"
   ]
  },
  {
   "cell_type": "markdown",
   "id": "51fa8593",
   "metadata": {},
   "source": [
    "Find the number of passengers who were married"
   ]
  },
  {
   "cell_type": "code",
   "execution_count": 17,
   "id": "2ba6d032",
   "metadata": {},
   "outputs": [
    {
     "name": "stdout",
     "output_type": "stream",
     "text": [
      "The Number of married couples were: 129\n"
     ]
    }
   ],
   "source": [
    "import re\n",
    "cnt=0\n",
    "for i in train['Name']:\n",
    "    if(re.findall(\"Mrs\", i)):\n",
    "        cnt=cnt+1\n",
    "print(\"The Number of married couples were:\",cnt)"
   ]
  }
 ],
 "metadata": {
  "kernelspec": {
   "display_name": "Python 3 (ipykernel)",
   "language": "python",
   "name": "python3"
  },
  "language_info": {
   "codemirror_mode": {
    "name": "ipython",
    "version": 3
   },
   "file_extension": ".py",
   "mimetype": "text/x-python",
   "name": "python",
   "nbconvert_exporter": "python",
   "pygments_lexer": "ipython3",
   "version": "3.9.7"
  }
 },
 "nbformat": 4,
 "nbformat_minor": 5
}
