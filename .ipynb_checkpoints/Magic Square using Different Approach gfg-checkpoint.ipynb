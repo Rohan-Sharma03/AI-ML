{
 "cells": [
  {
   "cell_type": "code",
   "execution_count": 1,
   "id": "0f2e10d6",
   "metadata": {},
   "outputs": [],
   "source": [
    "import numpy as np"
   ]
  },
  {
   "cell_type": "code",
   "execution_count": 2,
   "id": "41735250",
   "metadata": {},
   "outputs": [],
   "source": [
    "def SolveMagicSqaure(n):\n",
    "\n",
    "    m = [[0 for x in range(n)]for y in range(n)]\n",
    "    row = n // 2\n",
    "    col = n - 1\n",
    "    num = 1\n",
    "    while num <= (n * n):\n",
    "        if row == -1 and col == n: \n",
    "            col = n - 2\n",
    "            row = 0\n",
    "        else:\n",
    "            if col == n:\n",
    "                col = 0\n",
    "\n",
    "            if row < 0:\n",
    "                row = n - 1\n",
    " \n",
    "        if m[int(row)][int(col)]:\n",
    "            col = col - 2\n",
    "            row = row + 1\n",
    "            continue\n",
    "        else:\n",
    "            m[int(row)][int(col)] = num\n",
    "            num = num + 1\n",
    " \n",
    "        col = col + 1\n",
    "        row = row - 1\n",
    "    \n",
    "    print(m)"
   ]
  },
  {
   "cell_type": "code",
   "execution_count": 3,
   "id": "502965c8",
   "metadata": {},
   "outputs": [
    {
     "name": "stdout",
     "output_type": "stream",
     "text": [
      "[[2, 7, 6], [9, 5, 1], [4, 3, 8]]\n"
     ]
    }
   ],
   "source": [
    "n = 3\n",
    "SolveMagicSqaure(3)"
   ]
  },
  {
   "cell_type": "code",
   "execution_count": null,
   "id": "753baba5",
   "metadata": {},
   "outputs": [],
   "source": []
  },
  {
   "cell_type": "code",
   "execution_count": null,
   "id": "a37cd2d8",
   "metadata": {},
   "outputs": [],
   "source": []
  }
 ],
 "metadata": {
  "kernelspec": {
   "display_name": "Python 3 (ipykernel)",
   "language": "python",
   "name": "python3"
  },
  "language_info": {
   "codemirror_mode": {
    "name": "ipython",
    "version": 3
   },
   "file_extension": ".py",
   "mimetype": "text/x-python",
   "name": "python",
   "nbconvert_exporter": "python",
   "pygments_lexer": "ipython3",
   "version": "3.9.7"
  }
 },
 "nbformat": 4,
 "nbformat_minor": 5
}
