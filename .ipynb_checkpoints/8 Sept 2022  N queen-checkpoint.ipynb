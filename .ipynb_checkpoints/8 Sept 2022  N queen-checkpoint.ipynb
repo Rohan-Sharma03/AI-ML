{
 "cells": [
  {
   "cell_type": "code",
   "execution_count": 1,
   "id": "c726cda0",
   "metadata": {},
   "outputs": [],
   "source": [
    "import numpy as np"
   ]
  },
  {
   "cell_type": "code",
   "execution_count": 2,
   "id": "f4c6c225",
   "metadata": {},
   "outputs": [
    {
     "name": "stdout",
     "output_type": "stream",
     "text": [
      "Enter the size of board:8\n",
      "[['Q' '' '' '' '' '' '' '']\n",
      " ['' '' '' '' 'Q' '' '' '']\n",
      " ['' '' '' '' '' '' '' 'Q']\n",
      " ['' '' '' '' '' 'Q' '' '']\n",
      " ['' '' 'Q' '' '' '' '' '']\n",
      " ['' '' '' '' '' '' 'Q' '']\n",
      " ['' 'Q' '' '' '' '' '' '']\n",
      " ['' '' '' 'Q' '' '' '' '']]\n"
     ]
    }
   ],
   "source": [
    "def isPossible(board,r,c,n):\n",
    "    \n",
    "#  Checking weather the board contain the Q in column \n",
    "    for i in range(r):\n",
    "        if(board[i][c]=='Q'):\n",
    "            return False\n",
    "        \n",
    "#  Checking weather the board contain the Q in upper-left \n",
    "    row = r\n",
    "    col = c\n",
    "    while(row>=0 and col>=0):\n",
    "        if(board[row][col]=='Q'):\n",
    "            return False\n",
    "        row=row-1\n",
    "        col=col-1\n",
    "        \n",
    "#  Checking weather the board contain the Q in upper-right    \n",
    "    row = r\n",
    "    col = c\n",
    "    while(row>=0 and col<n):\n",
    "        if(board[row][col]=='Q'):\n",
    "            return False\n",
    "        row=row-1\n",
    "        col=col+1\n",
    "    \n",
    "    return True\n",
    "\n",
    "def nQueen(board,r,n):\n",
    "    if(r>=n):\n",
    "        return True\n",
    "    for c in range(n):\n",
    "        if(isPossible(board,r,c,n)):\n",
    "            board[r][c]='Q'\n",
    "            \n",
    "#            calling, function for next row if the queen is placed on proper position, \n",
    "#            else backtrack and change the column number.\n",
    "\n",
    "            if(nQueen(board,r+1,n)):\n",
    "                return True\n",
    "            board[r][c]=''\n",
    "            \n",
    "    return False\n",
    "    \n",
    "def solve(): \n",
    "    n = int(input(\"Enter the size of board:\"))\n",
    "    board = np.zeros((n,n), dtype=str)\n",
    "#     starting with row zero\n",
    "    if(nQueen(board,0,n)):\n",
    "#         print the board if the queen is placed correctly  \n",
    "        print(board)\n",
    "solve()  "
   ]
  },
  {
   "cell_type": "code",
   "execution_count": null,
   "id": "9585a45b",
   "metadata": {},
   "outputs": [],
   "source": [
    "solve()"
   ]
  },
  {
   "cell_type": "code",
   "execution_count": null,
   "id": "696bc88b",
   "metadata": {},
   "outputs": [],
   "source": []
  }
 ],
 "metadata": {
  "kernelspec": {
   "display_name": "Python 3 (ipykernel)",
   "language": "python",
   "name": "python3"
  },
  "language_info": {
   "codemirror_mode": {
    "name": "ipython",
    "version": 3
   },
   "file_extension": ".py",
   "mimetype": "text/x-python",
   "name": "python",
   "nbconvert_exporter": "python",
   "pygments_lexer": "ipython3",
   "version": "3.9.7"
  }
 },
 "nbformat": 4,
 "nbformat_minor": 5
}
