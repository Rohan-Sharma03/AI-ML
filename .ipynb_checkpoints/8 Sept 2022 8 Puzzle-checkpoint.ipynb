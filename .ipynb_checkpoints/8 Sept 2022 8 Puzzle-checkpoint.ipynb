{
 "cells": [
  {
   "cell_type": "code",
   "execution_count": 1,
   "id": "291ec2b2",
   "metadata": {},
   "outputs": [],
   "source": [
    "import numpy as np\n",
    "import copy\n",
    "import sys"
   ]
  },
  {
   "cell_type": "code",
   "execution_count": 2,
   "id": "dd1600f6",
   "metadata": {},
   "outputs": [
    {
     "name": "stdout",
     "output_type": "stream",
     "text": [
      "3 1\n",
      "3 2\n",
      "7 6\n",
      "8 6\n"
     ]
    },
    {
     "data": {
      "text/plain": [
       "True"
      ]
     },
     "execution_count": 2,
     "metadata": {},
     "output_type": "execute_result"
    }
   ],
   "source": [
    "def inversion(IS):\n",
    "#     the number held before\n",
    "    cnt=0\n",
    "    temp=[]\n",
    "    for i in IS:\n",
    "        if(i!=0):\n",
    "            temp.append(i)\n",
    "        else:\n",
    "            continue\n",
    "#     print(temp)\n",
    "    t=[0,0,0,0,0,0,0,0]\n",
    "    for i in range(8):\n",
    "        for j in range(i+1,8):\n",
    "            if(temp[i]!=0 and temp[j]!=0 ):\n",
    "                if(temp[i]<temp[j]):\n",
    "                    continue\n",
    "                else:\n",
    "                    print(temp[i],temp[j])\n",
    "                    cnt=cnt+1\n",
    "                    t.insert(IS[i],t[j]+1)\n",
    "#     print(cnt)\n",
    "    if(cnt & 1==0):\n",
    "        return True\n",
    "    return False\n",
    "IS = np.array([[3,1,2],[4,0,5],[7,8,6]])\n",
    "inversion(IS.ravel())"
   ]
  },
  {
   "cell_type": "code",
   "execution_count": 3,
   "id": "54f8a92e",
   "metadata": {},
   "outputs": [
    {
     "name": "stdout",
     "output_type": "stream",
     "text": [
      "4\n",
      "solvable\n",
      "[[1 2 3]\n",
      " [5 0 6]\n",
      " [7 8 4]]\n",
      " not solvable\n"
     ]
    }
   ],
   "source": [
    "row=[-1,0,1,0]\n",
    "col=[0,1,0,-1]\n",
    "\n",
    "def inversion(IS):\n",
    "#     the number held before\n",
    "    cnt=0\n",
    "    temp=[]\n",
    "    for i in IS:\n",
    "        if(i!=0):\n",
    "            temp.append(i)\n",
    "        else:\n",
    "            continue\n",
    "#     print(temp)\n",
    "    t=[0,0,0,0,0,0,0,0]\n",
    "    for i in range(8):\n",
    "        for j in range(i+1,8):\n",
    "            if(temp[i]!=0 and temp[j]!=0 ):\n",
    "                if(temp[i]<temp[j]):\n",
    "                    continue\n",
    "                else:\n",
    "#                     print(temp[i],temp[j])\n",
    "                    cnt=cnt+1\n",
    "#                     t.insert(IS[i],t[j]+1)\n",
    "    print(cnt)\n",
    "    if(cnt % 2==0):\n",
    "        return True\n",
    "    return False\n",
    "\n",
    "def manhattan(IS,GS):\n",
    "    \n",
    "# manhattan for Initail state\n",
    "    LOCI=[]\n",
    "    for i in range(1,9):\n",
    "        resI = np.where(IS==i)\n",
    "#         List of Coordinates\n",
    "        \n",
    "        LOCI.append(list(zip(resI[0],resI[1])))\n",
    "    \n",
    "#     print(LOCI,\"GS\")\n",
    "        \n",
    "# manhattan for Gaol state\n",
    "    LOCG=[]\n",
    "    for i in range(1,9):\n",
    "        resG = np.where(GS==i)\n",
    "#         List of Coordinates\n",
    "        \n",
    "        LOCG.append(list(zip(resG[0],resG[1])))\n",
    "    \n",
    "#     print(LOCG,\"GS\")\n",
    "    total=0\n",
    "    for i in range(8):\n",
    "        x1=LOCI[i][0][0]\n",
    "        y1=LOCI[i][0][1]\n",
    "#         print(x1,y1,\"From IS\")\n",
    "        x2=LOCG[i][0][0]\n",
    "        y2=LOCG[i][0][1]\n",
    "#         print(x2,y2,\"From GS\")\n",
    "        \n",
    "        x=abs(x1-x2)\n",
    "        y=abs(y1-y2)\n",
    "        total=total+(x+y)\n",
    "#         print(x+y,\"Distance \")\n",
    "    return total\n",
    "\n",
    "def checkNotFinish(IS,GS):\n",
    "    if(manhattan(IS,GS)!=0):\n",
    "        return True\n",
    "    return False\n",
    "        \n",
    "    \n",
    "def isVaild(i,j):\n",
    "    if(i<0 or j<0 or i>=3 or j>=3):\n",
    "        return False\n",
    "    return True\n",
    "def bestStateGen(IS,GS):\n",
    "    \n",
    "    states={}\n",
    "    resO = np.where(IS==0)\n",
    "    temp=list(zip(resO[0],resO[1]))\n",
    "    x=temp[0][0]\n",
    "    y=temp[0][1]\n",
    "    \n",
    "#     print(x,y)\n",
    "    for k in range(4):\n",
    "        newX=x+row[k]\n",
    "        newY=y+col[k]\n",
    "#         print(newX,newY)\n",
    "        if(isVaild(newX,newY)):\n",
    "            ther=100\n",
    "#             Swaping\n",
    "            val = IS[newX][newY]\n",
    "            newIS =copy.deepcopy(IS)\n",
    "            newIS[x][y]=val\n",
    "            newIS[newX][newY]=0\n",
    "            cost=manhattan(newIS,GS)\n",
    "            states[cost]=newIS\n",
    "    k=-1\n",
    "    cnt=0\n",
    "    for i in sorted(states.keys()):\n",
    "        k=i\n",
    "        cnt=cnt+1\n",
    "        if(cnt==1):\n",
    "            break\n",
    "    return states.get(k)\n",
    "            \n",
    "#             print(\"true\")\n",
    "#         else:\n",
    "#             print(\"No Possible Move \")\n",
    "\n",
    "def solveFor8Puzzle(IS,GS):\n",
    "    if(inversion(IS.ravel())):\n",
    "        print(\"solvable\")\n",
    "        move=bestStateGen(IS,GS)\n",
    "        print(move)\n",
    "        if(checkNotFinish(move,GS)):\n",
    "            solveFor8Puzzle(move,GS)\n",
    "        else:\n",
    "            print(\" not solvable\")\n",
    "            return\n",
    "        \n",
    "#             print(manhattan(IS,GS))\n",
    "        \n",
    "    else:\n",
    "        print(\"This 8-Puzzle is not Solvable\")\n",
    "# Current State\n",
    "IS = np.array([[1,2,3],[5,6,0],[7,8,4]])\n",
    "# Goal State\n",
    "GS = np.array([[1,2,3],[5,0,6],[7,8,4]])\n",
    "solveFor8Puzzle(IS,GS)"
   ]
  },
  {
   "cell_type": "code",
   "execution_count": 4,
   "id": "d2af4ea9",
   "metadata": {},
   "outputs": [],
   "source": [
    "IS = np.array([[1,2,3],[0,4,6],[7,5,8]])\n",
    "# Goal State\n",
    "GS = np.array([[1,2,3],[4,5,6],[7,8,0]])\n"
   ]
  },
  {
   "cell_type": "code",
   "execution_count": 5,
   "id": "0edac4de",
   "metadata": {},
   "outputs": [],
   "source": [
    "IS = np.array([[1,2,3],[5,6,0],[7,8,4]])\n",
    "# Goal State\n",
    "GS = np.array([[1,2,3],[5,0,6],[7,8,4]])"
   ]
  },
  {
   "cell_type": "code",
   "execution_count": 6,
   "id": "bb081397",
   "metadata": {},
   "outputs": [],
   "source": [
    "IS = np.array([[1,2,3],[5,6,0],[7,8,4]])\n",
    "# Goal State\n",
    "GS = np.array([[1,2,3],[5,8,6],[0,7,4]])"
   ]
  },
  {
   "cell_type": "code",
   "execution_count": 7,
   "id": "c661a487",
   "metadata": {},
   "outputs": [],
   "source": [
    "IS = np.array([[3,1,2],[4,0,5],[7,8,6]])\n",
    "# Goal State\n",
    "GS = np.array([[1,2,3],[4,5,6],[7,8,0]])"
   ]
  }
 ],
 "metadata": {
  "kernelspec": {
   "display_name": "Python 3 (ipykernel)",
   "language": "python",
   "name": "python3"
  },
  "language_info": {
   "codemirror_mode": {
    "name": "ipython",
    "version": 3
   },
   "file_extension": ".py",
   "mimetype": "text/x-python",
   "name": "python",
   "nbconvert_exporter": "python",
   "pygments_lexer": "ipython3",
   "version": "3.9.7"
  }
 },
 "nbformat": 4,
 "nbformat_minor": 5
}
