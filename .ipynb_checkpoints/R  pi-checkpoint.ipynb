{
 "cells": [
  {
   "cell_type": "code",
   "execution_count": 1,
   "id": "6a99203b",
   "metadata": {},
   "outputs": [
    {
     "name": "stdout",
     "output_type": "stream",
     "text": [
      "Enter a number :\n",
      "5\n",
      "Enter a number :\n",
      "4\n",
      "Enter a number :\n",
      "3\n",
      "[3, 4, 5]\n"
     ]
    }
   ],
   "source": [
    "List =[]\n",
    "n=3\n",
    "while(n!=0):\n",
    "    num=int(input(\"Enter a number :\\n\"))\n",
    "    List.append(num)\n",
    "    n=n-1\n",
    "List.sort()\n",
    "print(List)\n"
   ]
  },
  {
   "cell_type": "code",
   "execution_count": null,
   "id": "d114cf9d",
   "metadata": {},
   "outputs": [],
   "source": []
  }
 ],
 "metadata": {
  "kernelspec": {
   "display_name": "Python 3 (ipykernel)",
   "language": "python",
   "name": "python3"
  },
  "language_info": {
   "codemirror_mode": {
    "name": "ipython",
    "version": 3
   },
   "file_extension": ".py",
   "mimetype": "text/x-python",
   "name": "python",
   "nbconvert_exporter": "python",
   "pygments_lexer": "ipython3",
   "version": "3.9.7"
  }
 },
 "nbformat": 4,
 "nbformat_minor": 5
}
