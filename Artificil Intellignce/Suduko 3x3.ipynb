{
 "cells": [
  {
   "cell_type": "code",
   "execution_count": 1,
   "id": "fc6f8ee6",
   "metadata": {},
   "outputs": [],
   "source": [
    "import numpy as np"
   ]
  },
  {
   "cell_type": "code",
   "execution_count": 2,
   "id": "9d3a08d4",
   "metadata": {},
   "outputs": [
    {
     "data": {
      "text/plain": [
       "array([[2, 0, 3],\n",
       "       [1, 0, 0],\n",
       "       [0, 0, 1]])"
      ]
     },
     "execution_count": 2,
     "metadata": {},
     "output_type": "execute_result"
    }
   ],
   "source": [
    "m = np.array([[2,0,3],[1,0,0],[0,0,1]])\n",
    "m"
   ]
  },
  {
   "cell_type": "code",
   "execution_count": 3,
   "id": "c3314ecc",
   "metadata": {},
   "outputs": [],
   "source": [
    "def checkPossibleFit(row, col, matrix):\n",
    "    for i in range(1,4):\n",
    "        if( i not in matrix[row]):\n",
    "                if( i not in matrix[:,col]):\n",
    "                    matrix[row][col]=i\n",
    "                    \n",
    "#     print(matrix[col])"
   ]
  },
  {
   "cell_type": "code",
   "execution_count": 4,
   "id": "19f1372a",
   "metadata": {},
   "outputs": [],
   "source": [
    "def solver(matrix):\n",
    "#     print(matrix)\n",
    "    for i in range(3):\n",
    "        for j in range(3):\n",
    "            val = matrix[i][j]\n",
    "            if(val==0):\n",
    "                print(i,j, '=>' ,matrix[i][j])\n",
    "                checkPossibleFit(i,j,matrix)\n",
    "                \n",
    "\n",
    "    print(matrix)"
   ]
  },
  {
   "cell_type": "code",
   "execution_count": 5,
   "id": "d838fe78",
   "metadata": {},
   "outputs": [
    {
     "name": "stdout",
     "output_type": "stream",
     "text": [
      "0 1 => 0\n",
      "1 1 => 0\n",
      "1 2 => 0\n",
      "2 0 => 0\n",
      "2 1 => 0\n",
      "[[2 1 3]\n",
      " [1 3 2]\n",
      " [3 2 1]]\n"
     ]
    }
   ],
   "source": [
    "solver(m)"
   ]
  },
  {
   "cell_type": "code",
   "execution_count": null,
   "id": "da275c40",
   "metadata": {},
   "outputs": [],
   "source": []
  }
 ],
 "metadata": {
  "kernelspec": {
   "display_name": "Python 3 (ipykernel)",
   "language": "python",
   "name": "python3"
  },
  "language_info": {
   "codemirror_mode": {
    "name": "ipython",
    "version": 3
   },
   "file_extension": ".py",
   "mimetype": "text/x-python",
   "name": "python",
   "nbconvert_exporter": "python",
   "pygments_lexer": "ipython3",
   "version": "3.9.7"
  }
 },
 "nbformat": 4,
 "nbformat_minor": 5
}
