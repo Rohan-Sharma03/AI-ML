{
 "cells": [
  {
   "cell_type": "code",
   "execution_count": 27,
   "id": "8473fdaa",
   "metadata": {},
   "outputs": [
    {
     "name": "stdout",
     "output_type": "stream",
     "text": [
      "Enter the side length of Magic Square (ODD): 6\n",
      "\n",
      "MAGIC SQUARE\n",
      "[[19 27 35  1  9 17]\n",
      " [26 34  6  8 16 24]\n",
      " [33  5  7 15 23 25]\n",
      " [ 4 12 14 22 30 32]\n",
      " [11 13 21 29 31  3]\n",
      " [18 20 28 36  2 10]]\n"
     ]
    }
   ],
   "source": [
    "import numpy as np\n",
    "\n",
    "n=int(input(\"Enter the side length of Magic Square (ODD): \"))\n",
    "matrix = np.zeros((n,n), dtype=int)\n",
    "\n",
    "def top(row):\n",
    "    row-=1\n",
    "    if (row<0): \n",
    "        return (n-1)\n",
    "    return row\n",
    "    \n",
    "def right(col):\n",
    "    return (col+1)%n\n",
    "\n",
    "def bottom(row):\n",
    "    return (row+1)%n\n",
    "\n",
    "def fillMatrix(row, col, count):\n",
    "    if(count>n**2):\n",
    "        return\n",
    "    if (matrix[top(row)][right(col)] == 0):\n",
    "        row=top(row)\n",
    "        col=right(col)\n",
    "    else:\n",
    "        row=bottom(row)\n",
    "    \n",
    "    matrix[row][col]=count    \n",
    "    fillMatrix(row, col, count+1)\n",
    "\n",
    "matrix[0][n//2]=1   #Placing 1 in matrix\n",
    "fillMatrix(0, n//2, 2)\n",
    "\n",
    "print(\"\\nMAGIC SQUARE\")\n",
    "print(matrix)"
   ]
  },
  {
   "cell_type": "code",
   "execution_count": 29,
   "id": "f28e2752",
   "metadata": {},
   "outputs": [
    {
     "name": "stdout",
     "output_type": "stream",
     "text": [
      "sum of row\n",
      "108\n",
      "114\n",
      "108\n",
      "114\n",
      "108\n",
      "114\n",
      "sum of col\n",
      "111\n",
      "111\n",
      "111\n",
      "111\n",
      "111\n",
      "111\n",
      "sum of diag\n",
      "123\n",
      "123\n"
     ]
    }
   ],
   "source": [
    "def checkSum(matrix,n):\n",
    "    print('sum of row')\n",
    "    for i in range(n):\n",
    "        summ =0\n",
    "        for j in range(n):\n",
    "            summ = summ+matrix[i][j]\n",
    "        print(summ)\n",
    "    print('sum of col')\n",
    "    for i in range(n):\n",
    "        summ =0\n",
    "        for j in range(n):\n",
    "            summ = summ+matrix[j][i]\n",
    "        print(summ)\n",
    "    print('sum of diag')\n",
    "    summ =0\n",
    "    for i in range(n):\n",
    "        for j in range(n):\n",
    "            if(i==j):\n",
    "                summ = summ+matrix[i][j]\n",
    "    print(summ)\n",
    "    summ =0\n",
    "    for i in reversed(range(n)):\n",
    "        for j in reversed(range(n)):\n",
    "            if(i==j):\n",
    "                summ = summ+matrix[i][j]\n",
    "    print(summ)\n",
    "checkSum(matrix,6)"
   ]
  },
  {
   "cell_type": "code",
   "execution_count": null,
   "id": "4b651ced",
   "metadata": {},
   "outputs": [],
   "source": []
  }
 ],
 "metadata": {
  "kernelspec": {
   "display_name": "Python 3 (ipykernel)",
   "language": "python",
   "name": "python3"
  },
  "language_info": {
   "codemirror_mode": {
    "name": "ipython",
    "version": 3
   },
   "file_extension": ".py",
   "mimetype": "text/x-python",
   "name": "python",
   "nbconvert_exporter": "python",
   "pygments_lexer": "ipython3",
   "version": "3.9.7"
  }
 },
 "nbformat": 4,
 "nbformat_minor": 5
}
